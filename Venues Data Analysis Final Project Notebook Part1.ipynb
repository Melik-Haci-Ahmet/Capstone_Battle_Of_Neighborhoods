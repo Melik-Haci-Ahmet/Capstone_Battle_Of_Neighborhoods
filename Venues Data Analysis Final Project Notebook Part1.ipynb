{
    "cells": [
        {
            "metadata": {
                "collapsed": true
            },
            "cell_type": "markdown",
            "source": "# Venues Data Analysis of Two Fastest Developing Cities in Turkey"
        },
        {
            "metadata": {},
            "cell_type": "markdown",
            "source": "## This notebook contains only the Data Section of the project for the Week-1 Requirements  "
        },
        {
            "metadata": {},
            "cell_type": "markdown",
            "source": "First we need to import libraries that we are going to use in the project."
        },
        {
            "metadata": {},
            "cell_type": "code",
            "source": "import requests # library to handle requests\nimport pandas as pd # library for data analsysis\nimport numpy as np # library to handle data in a vectorized manner\nimport random # library for random number generation\nimport matplotlib.pyplot as plt #library for plotting charts\n\n!pip install geopy\nfrom geopy.geocoders import Nominatim # module to convert an address into latitude and longitude values\n\n# libraries for displaying images\nfrom IPython.display import Image \nfrom IPython.core.display import HTML \n    \n# tranforming json file into a pandas dataframe library\nfrom pandas.io.json import json_normalize\n\n\n! pip install folium==0.5.0\nimport folium # plotting library\n\nprint('All Libs are downloaded.')",
            "execution_count": 1,
            "outputs": [
                {
                    "output_type": "stream",
                    "text": "Requirement already satisfied: geopy in /opt/conda/envs/Python-3.7-main/lib/python3.7/site-packages (2.0.0)\nRequirement already satisfied: geographiclib<2,>=1.49 in /opt/conda/envs/Python-3.7-main/lib/python3.7/site-packages (from geopy) (1.50)\nCollecting folium==0.5.0\n  Downloading folium-0.5.0.tar.gz (79 kB)\n\u001b[K     |\u2588\u2588\u2588\u2588\u2588\u2588\u2588\u2588\u2588\u2588\u2588\u2588\u2588\u2588\u2588\u2588\u2588\u2588\u2588\u2588\u2588\u2588\u2588\u2588\u2588\u2588\u2588\u2588\u2588\u2588\u2588\u2588| 79 kB 10.9 MB/s eta 0:00:01\n\u001b[?25hCollecting branca\n  Downloading branca-0.4.2-py3-none-any.whl (24 kB)\nRequirement already satisfied: jinja2 in /opt/conda/envs/Python-3.7-main/lib/python3.7/site-packages (from folium==0.5.0) (2.11.2)\nRequirement already satisfied: requests in /opt/conda/envs/Python-3.7-main/lib/python3.7/site-packages (from folium==0.5.0) (2.24.0)\nRequirement already satisfied: six in /opt/conda/envs/Python-3.7-main/lib/python3.7/site-packages (from folium==0.5.0) (1.15.0)\nRequirement already satisfied: MarkupSafe>=0.23 in /opt/conda/envs/Python-3.7-main/lib/python3.7/site-packages (from jinja2->folium==0.5.0) (1.1.1)\nRequirement already satisfied: idna<3,>=2.5 in /opt/conda/envs/Python-3.7-main/lib/python3.7/site-packages (from requests->folium==0.5.0) (2.9)\nRequirement already satisfied: chardet<4,>=3.0.2 in /opt/conda/envs/Python-3.7-main/lib/python3.7/site-packages (from requests->folium==0.5.0) (3.0.4)\nRequirement already satisfied: certifi>=2017.4.17 in /opt/conda/envs/Python-3.7-main/lib/python3.7/site-packages (from requests->folium==0.5.0) (2020.12.5)\nRequirement already satisfied: urllib3!=1.25.0,!=1.25.1,<1.26,>=1.21.1 in /opt/conda/envs/Python-3.7-main/lib/python3.7/site-packages (from requests->folium==0.5.0) (1.25.9)\nBuilding wheels for collected packages: folium\n  Building wheel for folium (setup.py) ... \u001b[?25ldone\n\u001b[?25h  Created wheel for folium: filename=folium-0.5.0-py3-none-any.whl size=76240 sha256=5e7c41aeac8b0ffb3100668968474dbfb323114defeb8ff540b42b083b7c2f5c\n  Stored in directory: /tmp/wsuser/.cache/pip/wheels/b2/2f/2c/109e446b990d663ea5ce9b078b5e7c1a9c45cca91f377080f8\nSuccessfully built folium\nInstalling collected packages: branca, folium\nSuccessfully installed branca-0.4.2 folium-0.5.0\nAll Libs are downloaded.\n",
                    "name": "stdout"
                }
            ]
        },
        {
            "metadata": {},
            "cell_type": "markdown",
            "source": "Now we can find the coordinates of two cities via geopy library of python as below:"
        },
        {
            "metadata": {},
            "cell_type": "code",
            "source": "manisa = 'Manisa, Yunusemre/Manisa, TR' #Should be close to the points 38.614147,27.3595218 (checked from Google Maps)\nman_locator = Nominatim(user_agent=\"manisa_agent\")\nloc_manisa = man_locator.geocode(manisa)\nmanisa_lat = loc_manisa.latitude\nmanisa_long = loc_manisa.longitude\nprint('Coordinates of Manisa City Center is (Lat, Long):',manisa_lat, manisa_long)",
            "execution_count": 2,
            "outputs": [
                {
                    "output_type": "stream",
                    "text": "Coordinates of Manisa City Center is (Lat, Long): 38.6155178 27.4045498\n",
                    "name": "stdout"
                }
            ]
        },
        {
            "metadata": {},
            "cell_type": "code",
            "source": "gaziantep = 'Gaziantep, TR' #Should be close the points 37.0629589,37.3787449 (checked from Google Maps)\ngzt_locator = Nominatim(user_agent=\"gantep_agent\")\nloc_gantep = gzt_locator.geocode(gaziantep)\n#print(loc_gantep)\ngantep_lat = loc_gantep.latitude\ngantep_long = loc_gantep.longitude\nprint('Coordinates of Gaziantep City Center is (Lat, Long):',gantep_lat, gantep_long)",
            "execution_count": 3,
            "outputs": [
                {
                    "output_type": "stream",
                    "text": "Coordinates of Gaziantep City Center is (Lat, Long): 37.0611756 37.3793085\n",
                    "name": "stdout"
                }
            ]
        },
        {
            "metadata": {},
            "cell_type": "markdown",
            "source": "We can define our credentials to use Four-Square API service. To catch as many places as possible, we keep the radius high as 2000 meters."
        },
        {
            "metadata": {},
            "cell_type": "code",
            "source": "CLIENT_ID = '1V5SIYNOFJ4AHPJXMJHLA2HOIRONZWMV3GGFUL24LDMHL3HT' # my Foursquare ID\nCLIENT_SECRET = 'X5MFOD5GHA42LZ2QTLSA1UY5PMCEVQZV3RLSZ31HTDX2GMZI' # my Foursquare Secret\nACCESS_TOKEN = 'DQPFGS4GITUZCAUNUW2AIMRFPQRY0IK2NB3H0KNYQGZ2RNKE' # my FourSquare Access Token\nVERSION = '20180604'\nradius=2000\nlimit=200",
            "execution_count": 4,
            "outputs": []
        },
        {
            "metadata": {},
            "cell_type": "markdown",
            "source": "Let's acquire our data set for both cities. "
        },
        {
            "metadata": {},
            "cell_type": "code",
            "source": "manisa_url = 'https://api.foursquare.com/v2/venues/search?client_id={}&client_secret={}&ll={},{}&oauth_token={}&v={}&radius={}&limit={}'.format(CLIENT_ID, CLIENT_SECRET, manisa_lat, manisa_long, ACCESS_TOKEN, VERSION, radius, limit)\nman_results = requests.get(manisa_url).json()\nprint(len(man_results['response']['venues']),'venues returned for Manisa')",
            "execution_count": 5,
            "outputs": [
                {
                    "output_type": "stream",
                    "text": "121 venues returned for Manisa\n",
                    "name": "stdout"
                }
            ]
        },
        {
            "metadata": {},
            "cell_type": "code",
            "source": "gantep_url = 'https://api.foursquare.com/v2/venues/search?client_id={}&client_secret={}&ll={},{}&oauth_token={}&v={}&radius={}&limit={}'.format(CLIENT_ID, CLIENT_SECRET, gantep_lat, gantep_long, ACCESS_TOKEN, VERSION, radius, limit)\ngzt_results = requests.get(gantep_url).json()\nprint(len(gzt_results['response']['venues']),'venues returned for Gaziantep')",
            "execution_count": 6,
            "outputs": [
                {
                    "output_type": "stream",
                    "text": "129 venues returned for Gaziantep\n",
                    "name": "stdout"
                }
            ]
        },
        {
            "metadata": {},
            "cell_type": "markdown",
            "source": "We can examine our data set by looking the first element and its characteristics as seen below:"
        },
        {
            "metadata": {},
            "cell_type": "code",
            "source": "# assign relevant part of JSON to venues\nman_venues = man_results['response']['venues']\nman_venues[0] #Let's see the first element of man_venues to see key-value pairs",
            "execution_count": 7,
            "outputs": [
                {
                    "output_type": "execute_result",
                    "execution_count": 7,
                    "data": {
                        "text/plain": "{'id': '4c9af898eaa5a143c409d1e4',\n 'name': 'Merkez Efendi Devlet Hastanesi',\n 'location': {'address': 'Merkez Efendi Mh. 45020 Manisa, T\u00fcrkiye',\n  'lat': 38.61587901620142,\n  'lng': 27.408422220395153,\n  'distance': 339,\n  'cc': 'TR',\n  'city': 'Manisa',\n  'state': 'Manisa',\n  'country': 'T\u00fcrkiye',\n  'formattedAddress': ['Merkez Efendi Mh. 45020 Manisa, T\u00fcrkiye',\n   'Manisa',\n   'T\u00fcrkiye']},\n 'categories': [{'id': '4bf58dd8d48988d196941735',\n   'name': 'Hospital',\n   'pluralName': 'Hospitals',\n   'shortName': 'Hospital',\n   'icon': {'prefix': 'https://ss3.4sqi.net/img/categories_v2/building/medical_',\n    'suffix': '.png'},\n   'primary': True}],\n 'referralId': 'v-1615738583',\n 'hasPerk': False}"
                    },
                    "metadata": {}
                }
            ]
        },
        {
            "metadata": {},
            "cell_type": "code",
            "source": "# assign relevant part of JSON to venues\ngzt_venues = gzt_results['response']['venues']\ngzt_venues[0] #Let's see the first element of gzt_venues to see key-value pairs",
            "execution_count": 8,
            "outputs": [
                {
                    "output_type": "execute_result",
                    "execution_count": 8,
                    "data": {
                        "text/plain": "{'id': '4e01e307c65b896d116ec9b6',\n 'name': 'Gaziantep \u00c7ar\u015f\u0131',\n 'location': {'address': '\u0130l Merkezi',\n  'lat': 37.06257661361256,\n  'lng': 37.37818751972021,\n  'labeledLatLngs': [{'label': 'display',\n    'lat': 37.06257661361256,\n    'lng': 37.37818751972021}],\n  'distance': 185,\n  'postalCode': '27400',\n  'cc': 'TR',\n  'city': 'Gaziantep',\n  'state': 'Gaziantep',\n  'country': 'T\u00fcrkiye',\n  'formattedAddress': ['\u0130l Merkezi', '27400 Gaziantep', 'T\u00fcrkiye']},\n 'categories': [{'id': '4bf58dd8d48988d162941735',\n   'name': 'Other Great Outdoors',\n   'pluralName': 'Other Great Outdoors',\n   'shortName': 'Other Outdoors',\n   'icon': {'prefix': 'https://ss3.4sqi.net/img/categories_v2/parks_outdoors/outdoors_',\n    'suffix': '.png'},\n   'primary': True}],\n 'referralId': 'v-1615738587',\n 'hasPerk': False}"
                    },
                    "metadata": {}
                }
            ]
        },
        {
            "metadata": {},
            "cell_type": "markdown",
            "source": "Now that we have extracted our data from the json file into a list of dictionary for both cities, we can structure our data into data frames for both cities. \nNote: Because json_normalize method(function) did not work for our data set, we assigned 'pass' values to address (key) which had no values. That seems to be the reason why json_normalize method(function) did not work. "
        },
        {
            "metadata": {},
            "cell_type": "code",
            "source": "#Let's create a dataframe for Manisa city and assign relevant values from the JSON.\nmanisa_df=pd.DataFrame(columns=['name', 'address', 'latitude', 'longitude', 'category_name', 'venue_category'])\nname=None\nadres=None\nlatitude=None\nlongitude=None\ncat_name=None\ncategory=None\n#Now we can fill the dataframe with corresponding values from the JSON.\nfor i in range(len(man_venues)): \n    try: name = man_venues[i]['name']\n    except: name = 'pass'\n    try: adres = man_venues[i]['location']['address']\n    except: adres = 'pass'\n    try: latitude = man_venues[i]['location']['lat']\n    except: latitude = None\n    try: longitude = man_venues[i]['location']['lng']\n    except: longitude = None\n    try: cat_name = man_venues[i]['categories'][0]['name']\n    except: cat_name = 'pass'\n    #To pull the category word alone, we need to do some split operations as below.\n    try :\n        cat_list = man_venues[i]['categories'][0]['icon']['prefix'].split('/')\n    except:\n        cat_list = 'pass'\n    cat_word = cat_list[len(cat_list)-1]\n    category = cat_word.replace('_','')\n    #Now we can fill the dataframe columns with corresponding values.\n    manisa_df = manisa_df.append({'name':name, 'address':adres, 'latitude':latitude, 'longitude':longitude, \n                                  'category_name':cat_name, 'venue_category':category}, ignore_index = True)\nmanisa_df.head()    ",
            "execution_count": 9,
            "outputs": [
                {
                    "output_type": "execute_result",
                    "execution_count": 9,
                    "data": {
                        "text/plain": "                              name                                  address  \\\n0   Merkez Efendi Devlet Hastanesi  Merkez Efendi Mh. 45020 Manisa, T\u00fcrkiye   \n1  Manisa Meteoroloji \u0130l M\u00fcd\u00fcrl\u00fc\u011f\u00fc                                     pass   \n2                   Forum Magnesia    Laleli Mah. Ali R\u0131za Efendi Cad. No:4   \n3                     Lale Meydan\u0131                                     pass   \n4                        Cafe Sera                      Hakk\u0131 \u0130plik\u00e7i Park\u0131   \n\n    latitude  longitude     category_name venue_category  \n0  38.615879  27.408422          Hospital        medical  \n1  38.615385  27.404768  Spiritual Center      religious  \n2  38.616166  27.400331     Shopping Mall           mall  \n3  38.617454  27.402748             Plaza          plaza  \n4  38.613658  27.422914              Caf\u00e9           cafe  ",
                        "text/html": "<div>\n<style scoped>\n    .dataframe tbody tr th:only-of-type {\n        vertical-align: middle;\n    }\n\n    .dataframe tbody tr th {\n        vertical-align: top;\n    }\n\n    .dataframe thead th {\n        text-align: right;\n    }\n</style>\n<table border=\"1\" class=\"dataframe\">\n  <thead>\n    <tr style=\"text-align: right;\">\n      <th></th>\n      <th>name</th>\n      <th>address</th>\n      <th>latitude</th>\n      <th>longitude</th>\n      <th>category_name</th>\n      <th>venue_category</th>\n    </tr>\n  </thead>\n  <tbody>\n    <tr>\n      <th>0</th>\n      <td>Merkez Efendi Devlet Hastanesi</td>\n      <td>Merkez Efendi Mh. 45020 Manisa, T\u00fcrkiye</td>\n      <td>38.615879</td>\n      <td>27.408422</td>\n      <td>Hospital</td>\n      <td>medical</td>\n    </tr>\n    <tr>\n      <th>1</th>\n      <td>Manisa Meteoroloji \u0130l M\u00fcd\u00fcrl\u00fc\u011f\u00fc</td>\n      <td>pass</td>\n      <td>38.615385</td>\n      <td>27.404768</td>\n      <td>Spiritual Center</td>\n      <td>religious</td>\n    </tr>\n    <tr>\n      <th>2</th>\n      <td>Forum Magnesia</td>\n      <td>Laleli Mah. Ali R\u0131za Efendi Cad. No:4</td>\n      <td>38.616166</td>\n      <td>27.400331</td>\n      <td>Shopping Mall</td>\n      <td>mall</td>\n    </tr>\n    <tr>\n      <th>3</th>\n      <td>Lale Meydan\u0131</td>\n      <td>pass</td>\n      <td>38.617454</td>\n      <td>27.402748</td>\n      <td>Plaza</td>\n      <td>plaza</td>\n    </tr>\n    <tr>\n      <th>4</th>\n      <td>Cafe Sera</td>\n      <td>Hakk\u0131 \u0130plik\u00e7i Park\u0131</td>\n      <td>38.613658</td>\n      <td>27.422914</td>\n      <td>Caf\u00e9</td>\n      <td>cafe</td>\n    </tr>\n  </tbody>\n</table>\n</div>"
                    },
                    "metadata": {}
                }
            ]
        },
        {
            "metadata": {},
            "cell_type": "code",
            "source": "#Now create a dataframe for Gaziantep city and assign relevant values from the JSON.\ngantep_df=pd.DataFrame(columns=['name', 'address', 'latitude', 'longitude', 'category_name', 'venue_category'])\nname=None\nadres=None\nlatitude=None\nlongitude=None\ncat_name=None\ncategory=None\n#Now we can fill the dataframe with corresponding values from the JSON.\nfor i in range(len(gzt_venues)):\n    try: name = gzt_venues[i]['name']\n    except: name = 'pass'\n    try: adres = gzt_venues[i]['location']['address']\n    except: adres = 'pass'\n    try: latitude = gzt_venues[i]['location']['lat']\n    except: latitude = None\n    try: longitude = gzt_venues[i]['location']['lng']\n    except: longitude = None\n    try: cat_name = gzt_venues[i]['categories'][0]['name']\n    except: cat_name = 'pass'\n    #To pull the category word alone, we need to do some split operations as below.\n    try :\n        cat_list = gzt_venues[i]['categories'][0]['icon']['prefix'].split('/')\n    except:\n        cat_list = 'pass'\n    cat_word = cat_list[len(cat_list)-1]\n    category = cat_word.replace('_','')\n    #Now we can fill the dataframe columns with corresponding values.\n    gantep_df = gantep_df.append({'name':name, 'address':adres, 'latitude':latitude, 'longitude':longitude, \n                                  'category_name':cat_name, 'venue_category':category}, ignore_index = True)\ngantep_df.head() ",
            "execution_count": 10,
            "outputs": [
                {
                    "output_type": "execute_result",
                    "execution_count": 10,
                    "data": {
                        "text/plain": "                        name                                          address  \\\n0            Gaziantep \u00c7ar\u015f\u0131                                       \u0130l Merkezi   \n1                 Sanko Park  Sar\u0131g\u00fcll\u00fck Mah. Mara\u015fal Fevzi \u00c7akmak Blv. No:23   \n2            Forum Gaziantep                  Yaprak Mah. \u0130stasyon Cad. No:76   \n3            Ad\u0131belli Market                                             pass   \n4  57 NOLU T\u00dcRK TELEKOM BAY\u0130                                     EY\u00dcPOGLU MAH   \n\n    latitude  longitude         category_name    venue_category  \n0  37.062577  37.378188  Other Great Outdoors          outdoors  \n1  37.063173  37.362039         Shopping Mall              mall  \n2  37.069765  37.380179         Shopping Mall              mall  \n3  37.060989  37.379340     Convenience Store  conveniencestore  \n4  37.061331  37.379387      Business Service           default  ",
                        "text/html": "<div>\n<style scoped>\n    .dataframe tbody tr th:only-of-type {\n        vertical-align: middle;\n    }\n\n    .dataframe tbody tr th {\n        vertical-align: top;\n    }\n\n    .dataframe thead th {\n        text-align: right;\n    }\n</style>\n<table border=\"1\" class=\"dataframe\">\n  <thead>\n    <tr style=\"text-align: right;\">\n      <th></th>\n      <th>name</th>\n      <th>address</th>\n      <th>latitude</th>\n      <th>longitude</th>\n      <th>category_name</th>\n      <th>venue_category</th>\n    </tr>\n  </thead>\n  <tbody>\n    <tr>\n      <th>0</th>\n      <td>Gaziantep \u00c7ar\u015f\u0131</td>\n      <td>\u0130l Merkezi</td>\n      <td>37.062577</td>\n      <td>37.378188</td>\n      <td>Other Great Outdoors</td>\n      <td>outdoors</td>\n    </tr>\n    <tr>\n      <th>1</th>\n      <td>Sanko Park</td>\n      <td>Sar\u0131g\u00fcll\u00fck Mah. Mara\u015fal Fevzi \u00c7akmak Blv. No:23</td>\n      <td>37.063173</td>\n      <td>37.362039</td>\n      <td>Shopping Mall</td>\n      <td>mall</td>\n    </tr>\n    <tr>\n      <th>2</th>\n      <td>Forum Gaziantep</td>\n      <td>Yaprak Mah. \u0130stasyon Cad. No:76</td>\n      <td>37.069765</td>\n      <td>37.380179</td>\n      <td>Shopping Mall</td>\n      <td>mall</td>\n    </tr>\n    <tr>\n      <th>3</th>\n      <td>Ad\u0131belli Market</td>\n      <td>pass</td>\n      <td>37.060989</td>\n      <td>37.379340</td>\n      <td>Convenience Store</td>\n      <td>conveniencestore</td>\n    </tr>\n    <tr>\n      <th>4</th>\n      <td>57 NOLU T\u00dcRK TELEKOM BAY\u0130</td>\n      <td>EY\u00dcPOGLU MAH</td>\n      <td>37.061331</td>\n      <td>37.379387</td>\n      <td>Business Service</td>\n      <td>default</td>\n    </tr>\n  </tbody>\n</table>\n</div>"
                    },
                    "metadata": {}
                }
            ]
        },
        {
            "metadata": {},
            "cell_type": "markdown",
            "source": "To check if we have lost any data before the analysis starts, we call shape for both cities."
        },
        {
            "metadata": {},
            "cell_type": "code",
            "source": "manisa_df.shape",
            "execution_count": 11,
            "outputs": [
                {
                    "output_type": "execute_result",
                    "execution_count": 11,
                    "data": {
                        "text/plain": "(121, 6)"
                    },
                    "metadata": {}
                }
            ]
        },
        {
            "metadata": {},
            "cell_type": "code",
            "source": "gantep_df.shape",
            "execution_count": 12,
            "outputs": [
                {
                    "output_type": "execute_result",
                    "execution_count": 12,
                    "data": {
                        "text/plain": "(129, 6)"
                    },
                    "metadata": {}
                }
            ]
        },
        {
            "metadata": {},
            "cell_type": "markdown",
            "source": "We verified that all the data we extracted from Four-Square API calls, remain with no loss. Now we can move to initiate our analysis."
        },
        {
            "metadata": {},
            "cell_type": "markdown",
            "source": "## End of the Week-1 Assignment. Thank you for your consideration."
        }
    ],
    "metadata": {
        "kernelspec": {
            "name": "python3",
            "display_name": "Python 3.7",
            "language": "python"
        },
        "language_info": {
            "name": "python",
            "version": "3.7.10",
            "mimetype": "text/x-python",
            "codemirror_mode": {
                "name": "ipython",
                "version": 3
            },
            "pygments_lexer": "ipython3",
            "nbconvert_exporter": "python",
            "file_extension": ".py"
        }
    },
    "nbformat": 4,
    "nbformat_minor": 1
}